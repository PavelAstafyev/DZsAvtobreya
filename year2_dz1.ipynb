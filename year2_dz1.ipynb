{
  "nbformat": 4,
  "nbformat_minor": 0,
  "metadata": {
    "colab": {
      "provenance": [],
      "gpuType": "T4"
    },
    "kernelspec": {
      "name": "python3",
      "display_name": "Python 3"
    },
    "language_info": {
      "name": "python"
    },
    "accelerator": "GPU"
  },
  "cells": [
    {
      "cell_type": "markdown",
      "source": [
        "## Задание 1"
      ],
      "metadata": {
        "id": "bfXtEjzdFNlp"
      }
    },
    {
      "cell_type": "markdown",
      "source": [
        "Словарь: МАС"
      ],
      "metadata": {
        "id": "kHWqblsQGP0b"
      }
    },
    {
      "cell_type": "markdown",
      "source": [
        "АВТО́ГРАФ, -а, м.\n",
        "\n",
        "1. Собственноручная надпись или подпись. Соколов, притащив огромный лист картона, уговорил присутствующих оставить свои автографы ---. Они долго и старательно расписывались тогда. Саянов, Небо и земля.\n",
        "\n",
        "2. Собственноручный авторский рукописный текст. Автограф романа «Евгений Онегин». Собрание автографов. □ Всякая строчка великого писателя становится драгоценной для потомства. Мы с любопытством рассматриваем автографы, хотя бы они были не что иное, как отрывок из расходной тетради. Пушкин, Вольтер.\n",
        "\n",
        "[Греч. α’υτόγραφος]\n",
        "\n",
        "\n",
        "\n",
        "А́ДРЕС, -а, мн. адреса́, м.\n",
        "\n",
        "1. Обозначение, указание местожительства, местонахождения кого-, чего-л. Попросить адрес. Дать свой адрес. □ — Я справлялся в адресном столе, но там еще не было вашего адреса. Гаршин, Надежда Николаевна. — Пишите мне по домашнему адресу. С. Антонов, Лена. — Мама сказала, что ты у тетки. Адреса он [Игорь] не спросил. Катерли, Бронзовая прялка. || Надпись на почтовом отправлении (конверте, посылке и т. п.), указывающая место назначения и получателя. Наше первое письмо, отправленное с коротким адресом — «Сорренто, Максиму Горькому», к нашему удивлению, было получено им. Макаренко, Педагогическая поэма.\n",
        "\n",
        "2. Письменное приветствие, обращение к кому-л. в ознаменование какого-л. события. Адрес, с которым студенты обратились к больному поэту [Некрасову], был написан умно, тепло и хорошо. Короленко, История моего современника.\n",
        "\n",
        "3. Тех. Код, определяющий местоположение информации в электронной вычислительной машине.\n",
        "\n",
        "\n",
        "\n",
        "ОЖИДА́ТЬ, -а́ю, -а́ешь; прич. наст. ожида́ющий; прич. страд. прош. (устар.) ожи́данный, -дан, -а, -о; несов.\n",
        "\n",
        "1. перех., кого-чего или с придаточным дополнительным. Оставаться, находиться где-л. некоторое время, зная заранее о предстоящем приходе, прибытии, появлении и т. п. кого-, чего-л. или совершении чего-л.; ждать. Ожидать прихода гостей. Ожидать известий. Ожидать летной погоды. □ [Самозванец:] День целый ожидал Я тайного свидания с Мариной. Пушкин, Борис Годунов. [Анфиса:] В переулке, сзади вашего сада, я буду ожидать вас с коляской. А. Островский, За чем пойдешь, то и найдешь. [Горожане] слонялись возле карусели, ожидая, когда же, наконец, снимут с нее парусиновый чехол. Катаев, Белеет парус одинокий. || перех. и чего. Рассчитывать на приход, прибытие, появление и т. п. кого-, чего-л. или совершение чего-л. Ожидать подходящего случая. □ Лизавета Прокофьевна слегла в постель и вышла только к чаю, к тому времени, когда ожидали князя. Достоевский, Идиот. [Людмила:] Вы беспокоитесь? Может быть, ожидаете чего-нибудь дурного? А. Островский, Поздняя любовь.\n",
        "\n",
        "2. чего, с неопр. или с союзом „что“. Надеяться на что-л.; предполагать что-л. Ожидать большего. □ [Пионова], должно быть, никак не ожидала, что Иван Кузьмич назовет таких неинтересных гостей. Писемский, Виновата ли она? [Треплев:] Тригорин разлюбил ее и вернулся к своим прежним привязанностям, как и следовало ожидать. Чехов, Чайка. Закусив, он вышел в большую комнату, ожидая видеть там новых людей. М. Горький, Жизнь Клима Самгина.\n",
        "\n",
        "3. перех. Быть уготованным кому-л., предстоять. На двадцать восьмом году от роду он уже был капитаном; блестящая карьера ожидала его. Тургенев, Отцы и дети. Венцель сел рядом с шофером, а я позади, и мы тронулись. Нас ожидал длинный путь — сто двадцать километров по отвратительной дороге. Чаковский, Это было в Ленинграде.\n",
        "\n",
        "\n",
        "\n",
        "\n",
        "ОКОНЧА́НИЕ, -я, ср.\n",
        "\n",
        "1. Завершение, доведение чего-л. до конца. Близость Арзрума и уверенность в окончании похода утешала нас. Пушкин, Путешествие в Арзрум. На стене висели три похвальные грамоты: две выданы Урсанаху за многолетнюю хорошую работу, третья — Аннычах за отличное окончание семилетки. А. Кожевников, Живая вода.\n",
        "\n",
        "2. Заключительная часть, конец чего-л. Он проглатывал окончания фраз. Гранин, Искатели.\n",
        "\n",
        "3. Грамм. Грамматически изменяющаяся конечная часть слова; флексия.\n",
        "\n",
        "\n",
        "\n",
        "РУ́ЧКА, -и, род. мн. -чек, дат. -чкам, ж.\n",
        "\n",
        "1. Уменьш.-ласк. к рука (в 1 знач.).\n",
        "\n",
        "2. Часть предмета, за которую его держат или берут рукой. Дверная ручка. Ручка кофейника. Держать чемодан за ручку. || Приспособление у машин, аппаратов, служащее для приведения их в движение путем вращения, повертывания рукой. Ручка швейной машины. Ручка штурвала. □ Он сам подошел к радиатору, взялся за заводную ручку и выжидательно посмотрел на Максимова. Рыбаков, Водители.\n",
        "\n",
        "3. Часть кресла, дивана, на которую, сидя, опираются локтем; подлокотник. [Алексей Петрович] сел, прижавшись в уголок дивана, облокотился на его ручку. Гаршин, Ночь. [Председатель] то облокачивался --- на спинку, то на ручки кресел. Л. Толстой, Воскресение.\n",
        "\n",
        "4. Письменная принадлежность — палочка, в которую вставляется перо, стержень. [Ванька] достал из хозяйского шкафа пузырек с чернилами, ручку с заржавленным пером. Чехов, Ванька."
      ],
      "metadata": {
        "id": "YQratVe06ukq"
      }
    },
    {
      "cell_type": "code",
      "source": [
        "!pip install pymorphy2"
      ],
      "metadata": {
        "colab": {
          "base_uri": "https://localhost:8080/"
        },
        "id": "J4Pb1lMyhjs4",
        "outputId": "06300907-e99f-427a-8025-cab00674af5f"
      },
      "execution_count": 1,
      "outputs": [
        {
          "output_type": "stream",
          "name": "stdout",
          "text": [
            "Collecting pymorphy2\n",
            "  Downloading pymorphy2-0.9.1-py3-none-any.whl (55 kB)\n",
            "\u001b[?25l     \u001b[90m━━━━━━━━━━━━━━━━━━━━━━━━━━━━━━━━━━━━━━━━\u001b[0m \u001b[32m0.0/55.5 kB\u001b[0m \u001b[31m?\u001b[0m eta \u001b[36m-:--:--\u001b[0m\r\u001b[2K     \u001b[90m━━━━━━━━━━━━━━━━━━━━━━━━━━━━━━━━━━━━━━━━\u001b[0m \u001b[32m55.5/55.5 kB\u001b[0m \u001b[31m1.7 MB/s\u001b[0m eta \u001b[36m0:00:00\u001b[0m\n",
            "\u001b[?25hCollecting dawg-python>=0.7.1 (from pymorphy2)\n",
            "  Downloading DAWG_Python-0.7.2-py2.py3-none-any.whl (11 kB)\n",
            "Collecting pymorphy2-dicts-ru<3.0,>=2.4 (from pymorphy2)\n",
            "  Downloading pymorphy2_dicts_ru-2.4.417127.4579844-py2.py3-none-any.whl (8.2 MB)\n",
            "\u001b[2K     \u001b[90m━━━━━━━━━━━━━━━━━━━━━━━━━━━━━━━━━━━━━━━━\u001b[0m \u001b[32m8.2/8.2 MB\u001b[0m \u001b[31m71.7 MB/s\u001b[0m eta \u001b[36m0:00:00\u001b[0m\n",
            "\u001b[?25hCollecting docopt>=0.6 (from pymorphy2)\n",
            "  Downloading docopt-0.6.2.tar.gz (25 kB)\n",
            "  Preparing metadata (setup.py) ... \u001b[?25l\u001b[?25hdone\n",
            "Building wheels for collected packages: docopt\n",
            "  Building wheel for docopt (setup.py) ... \u001b[?25l\u001b[?25hdone\n",
            "  Created wheel for docopt: filename=docopt-0.6.2-py2.py3-none-any.whl size=13706 sha256=2bb2023f7d0e374901aa9c7c089447ff6d112712ade400737e1eaf40c800e626\n",
            "  Stored in directory: /root/.cache/pip/wheels/fc/ab/d4/5da2067ac95b36618c629a5f93f809425700506f72c9732fac\n",
            "Successfully built docopt\n",
            "Installing collected packages: pymorphy2-dicts-ru, docopt, dawg-python, pymorphy2\n",
            "Successfully installed dawg-python-0.7.2 docopt-0.6.2 pymorphy2-0.9.1 pymorphy2-dicts-ru-2.4.417127.4579844\n"
          ]
        }
      ]
    },
    {
      "cell_type": "code",
      "execution_count": 2,
      "metadata": {
        "colab": {
          "base_uri": "https://localhost:8080/"
        },
        "id": "QwvWXKa36NN9",
        "outputId": "84c082ad-8eed-47fb-bdc2-461a8639e7bc"
      },
      "outputs": [
        {
          "output_type": "stream",
          "name": "stdout",
          "text": [
            "Collecting corus\n",
            "  Downloading corus-0.10.0-py3-none-any.whl (83 kB)\n",
            "\u001b[?25l     \u001b[90m━━━━━━━━━━━━━━━━━━━━━━━━━━━━━━━━━━━━━━━━\u001b[0m \u001b[32m0.0/83.7 kB\u001b[0m \u001b[31m?\u001b[0m eta \u001b[36m-:--:--\u001b[0m\r\u001b[2K     \u001b[91m━━━━━━━━━━━━━━\u001b[0m\u001b[91m╸\u001b[0m\u001b[90m━━━━━━━━━━━━━━━━━━━━━━━━━\u001b[0m \u001b[32m30.7/83.7 kB\u001b[0m \u001b[31m1.1 MB/s\u001b[0m eta \u001b[36m0:00:01\u001b[0m\r\u001b[2K     \u001b[90m━━━━━━━━━━━━━━━━━━━━━━━━━━━━━━━━━━━━━━━━\u001b[0m \u001b[32m83.7/83.7 kB\u001b[0m \u001b[31m1.4 MB/s\u001b[0m eta \u001b[36m0:00:00\u001b[0m\n",
            "\u001b[?25hInstalling collected packages: corus\n",
            "Successfully installed corus-0.10.0\n"
          ]
        }
      ],
      "source": [
        "!pip install corus"
      ]
    },
    {
      "cell_type": "code",
      "source": [
        "!pip install git+https://github.com/lopuhin/python-adagram.git"
      ],
      "metadata": {
        "colab": {
          "base_uri": "https://localhost:8080/"
        },
        "id": "oSHUEZnDnyqX",
        "outputId": "b8048104-c575-4362-c816-a0f98abb30c8"
      },
      "execution_count": 3,
      "outputs": [
        {
          "output_type": "stream",
          "name": "stdout",
          "text": [
            "Collecting git+https://github.com/lopuhin/python-adagram.git\n",
            "  Cloning https://github.com/lopuhin/python-adagram.git to /tmp/pip-req-build-c4lxh467\n",
            "  Running command git clone --filter=blob:none --quiet https://github.com/lopuhin/python-adagram.git /tmp/pip-req-build-c4lxh467\n",
            "  Resolved https://github.com/lopuhin/python-adagram.git to commit cf3639f10d6a1efbcb602f45a1da89ef55ce5794\n",
            "  Preparing metadata (setup.py) ... \u001b[?25l\u001b[?25hdone\n",
            "Requirement already satisfied: cython in /usr/local/lib/python3.10/dist-packages (from adagram==0.0.1) (3.0.6)\n",
            "Requirement already satisfied: joblib in /usr/local/lib/python3.10/dist-packages (from adagram==0.0.1) (1.3.2)\n",
            "Requirement already satisfied: numpy>=1.9 in /usr/local/lib/python3.10/dist-packages (from adagram==0.0.1) (1.23.5)\n",
            "Requirement already satisfied: six in /usr/local/lib/python3.10/dist-packages (from adagram==0.0.1) (1.16.0)\n",
            "Building wheels for collected packages: adagram\n",
            "  Building wheel for adagram (setup.py) ... \u001b[?25l\u001b[?25hdone\n",
            "  Created wheel for adagram: filename=adagram-0.0.1-cp310-cp310-linux_x86_64.whl size=684739 sha256=ceb610623aec0e61899690963d93c8848c43aea2b8cde5fd52d6808746d12c81\n",
            "  Stored in directory: /tmp/pip-ephem-wheel-cache-qns7ng1v/wheels/88/8b/fc/291709600177e98c9bba397433476b87d894ca506e78302432\n",
            "Successfully built adagram\n",
            "Installing collected packages: adagram\n",
            "Successfully installed adagram-0.0.1\n"
          ]
        }
      ]
    },
    {
      "cell_type": "code",
      "source": [
        "!pip install simple-elmo"
      ],
      "metadata": {
        "colab": {
          "base_uri": "https://localhost:8080/"
        },
        "id": "KwWfPNQuQpKg",
        "outputId": "c78836d4-bd44-4119-d7f5-7d8b30853b82"
      },
      "execution_count": 4,
      "outputs": [
        {
          "output_type": "stream",
          "name": "stdout",
          "text": [
            "Collecting simple-elmo\n",
            "  Downloading simple_elmo-0.9.2-py3-none-any.whl (46 kB)\n",
            "\u001b[?25l     \u001b[90m━━━━━━━━━━━━━━━━━━━━━━━━━━━━━━━━━━━━━━━━\u001b[0m \u001b[32m0.0/46.2 kB\u001b[0m \u001b[31m?\u001b[0m eta \u001b[36m-:--:--\u001b[0m\r\u001b[2K     \u001b[90m━━━━━━━━━━━━━━━━━━━━━━━━━━━━━━━━━━━━━━━━\u001b[0m \u001b[32m46.2/46.2 kB\u001b[0m \u001b[31m1.5 MB/s\u001b[0m eta \u001b[36m0:00:00\u001b[0m\n",
            "\u001b[?25hRequirement already satisfied: h5py in /usr/local/lib/python3.10/dist-packages (from simple-elmo) (3.9.0)\n",
            "Requirement already satisfied: numpy in /usr/local/lib/python3.10/dist-packages (from simple-elmo) (1.23.5)\n",
            "Requirement already satisfied: smart-open>1.8.1 in /usr/local/lib/python3.10/dist-packages (from simple-elmo) (6.4.0)\n",
            "Requirement already satisfied: pandas in /usr/local/lib/python3.10/dist-packages (from simple-elmo) (1.5.3)\n",
            "Requirement already satisfied: scipy in /usr/local/lib/python3.10/dist-packages (from simple-elmo) (1.11.4)\n",
            "Requirement already satisfied: python-dateutil>=2.8.1 in /usr/local/lib/python3.10/dist-packages (from pandas->simple-elmo) (2.8.2)\n",
            "Requirement already satisfied: pytz>=2020.1 in /usr/local/lib/python3.10/dist-packages (from pandas->simple-elmo) (2023.3.post1)\n",
            "Requirement already satisfied: six>=1.5 in /usr/local/lib/python3.10/dist-packages (from python-dateutil>=2.8.1->pandas->simple-elmo) (1.16.0)\n",
            "Installing collected packages: simple-elmo\n",
            "Successfully installed simple-elmo-0.9.2\n"
          ]
        }
      ]
    },
    {
      "cell_type": "code",
      "source": [
        "!wget https://github.com/dialogue-evaluation/morphoRuEval-2017/raw/master/RNC_texts.rar\n",
        "!unrar x RNC_texts.rar\n",
        "!rm RNC_texts.rar"
      ],
      "metadata": {
        "colab": {
          "base_uri": "https://localhost:8080/"
        },
        "id": "TgASi-kngj5o",
        "outputId": "e6ced721-c2ee-4b6b-e68f-ef42d69711e2"
      },
      "execution_count": 5,
      "outputs": [
        {
          "output_type": "stream",
          "name": "stdout",
          "text": [
            "--2023-12-07 16:04:10--  https://github.com/dialogue-evaluation/morphoRuEval-2017/raw/master/RNC_texts.rar\n",
            "Resolving github.com (github.com)... 20.205.243.166\n",
            "Connecting to github.com (github.com)|20.205.243.166|:443... connected.\n",
            "HTTP request sent, awaiting response... 302 Found\n",
            "Location: https://raw.githubusercontent.com/dialogue-evaluation/morphoRuEval-2017/master/RNC_texts.rar [following]\n",
            "--2023-12-07 16:04:11--  https://raw.githubusercontent.com/dialogue-evaluation/morphoRuEval-2017/master/RNC_texts.rar\n",
            "Resolving raw.githubusercontent.com (raw.githubusercontent.com)... 185.199.108.133, 185.199.109.133, 185.199.110.133, ...\n",
            "Connecting to raw.githubusercontent.com (raw.githubusercontent.com)|185.199.108.133|:443... connected.\n",
            "HTTP request sent, awaiting response... 200 OK\n",
            "Length: 5775644 (5.5M) [application/octet-stream]\n",
            "Saving to: ‘RNC_texts.rar’\n",
            "\n",
            "RNC_texts.rar       100%[===================>]   5.51M  --.-KB/s    in 0.03s   \n",
            "\n",
            "2023-12-07 16:04:12 (209 MB/s) - ‘RNC_texts.rar’ saved [5775644/5775644]\n",
            "\n",
            "\n",
            "UNRAR 6.11 beta 1 freeware      Copyright (c) 1993-2022 Alexander Roshal\n",
            "\n",
            "\n",
            "Extracting from RNC_texts.rar\n",
            "\n",
            "Extracting  RNCgoldInUD_Morpho.conll                                     \b\b\b\b  0%\b\b\b\b  1%\b\b\b\b  2%\b\b\b\b  3%\b\b\b\b  4%\b\b\b\b  5%\b\b\b\b  6%\b\b\b\b  7%\b\b\b\b  8%\b\b\b\b  9%\b\b\b\b 10%\b\b\b\b 11%\b\b\b\b 12%\b\b\b\b 13%\b\b\b\b 14%\b\b\b\b 15%\b\b\b\b 16%\b\b\b\b 17%\b\b\b\b 18%\b\b\b\b 19%\b\b\b\b 20%\b\b\b\b 21%\b\b\b\b 22%\b\b\b\b 23%\b\b\b\b 24%\b\b\b\b 25%\b\b\b\b 26%\b\b\b\b 27%\b\b\b\b 28%\b\b\b\b 29%\b\b\b\b 30%\b\b\b\b 31%\b\b\b\b 32%\b\b\b\b 33%\b\b\b\b 34%\b\b\b\b 35%\b\b\b\b 36%\b\b\b\b 37%\b\b\b\b 38%\b\b\b\b 39%\b\b\b\b 40%\b\b\b\b 41%\b\b\b\b 42%\b\b\b\b 43%\b\b\b\b 44%\b\b\b\b 45%\b\b\b\b 46%\b\b\b\b 47%\b\b\b\b 48%\b\b\b\b 49%\b\b\b\b 50%\b\b\b\b 51%\b\b\b\b 52%\b\b\b\b 53%\b\b\b\b 54%\b\b\b\b 55%\b\b\b\b 56%\b\b\b\b 57%\b\b\b\b 58%\b\b\b\b 59%\b\b\b\b 60%\b\b\b\b 61%\b\b\b\b 62%\b\b\b\b 63%\b\b\b\b 64%\b\b\b\b 65%\b\b\b\b 66%\b\b\b\b 67%\b\b\b\b 68%\b\b\b\b 69%\b\b\b\b 70%\b\b\b\b 71%\b\b\b\b 72%\b\b\b\b 73%\b\b\b\b 74%\b\b\b\b 75%\b\b\b\b 76%\b\b\b\b 77%\b\b\b\b 78%\b\b\b\b 79%\b\b\b\b 80%\b\b\b\b 81%\b\b\b\b 82%\b\b\b\b 83%\b\b\b\b 84%\b\b\b\b 85%\b\b\b\b 86%\b\b\b\b 87%\b\b\b\b 88%\b\b\b\b 89%\b\b\b\b 90%\b\b\b\b 91%\b\b\b\b 92%\b\b\b\b 93%\b\b\b\b 94%\b\b\b\b 95%\b\b\b\b 96%\b\b\b\b 97%\b\b\b\b 98%\b\b\b\b 99%\b\b\b\b100%\b\b\b\b\b  OK \n",
            "All OK\n"
          ]
        }
      ]
    },
    {
      "cell_type": "code",
      "source": [
        "!curl \"https://s3.amazonaws.com/kostia.lopuhin/all.a010.p10.d300.w5.m100.nonorm.slim.joblib\" > all.a010.p10.d300.w5.m100.nonorm.slim.joblib"
      ],
      "metadata": {
        "colab": {
          "base_uri": "https://localhost:8080/"
        },
        "id": "5n6cqpEtyHN5",
        "outputId": "6665b720-4693-4256-9fb5-fce646e4585d"
      },
      "execution_count": 6,
      "outputs": [
        {
          "output_type": "stream",
          "name": "stdout",
          "text": [
            "  % Total    % Received % Xferd  Average Speed   Time    Time     Time  Current\n",
            "                                 Dload  Upload   Total   Spent    Left  Speed\n",
            "100 1394M  100 1394M    0     0  11.3M      0  0:02:02  0:02:02 --:--:-- 10.7M\n"
          ]
        }
      ]
    },
    {
      "cell_type": "code",
      "source": [
        "!wget http://vectors.nlpl.eu/repository/20/196.zip\n",
        "!unzip 196.zip -d 196"
      ],
      "metadata": {
        "colab": {
          "base_uri": "https://localhost:8080/"
        },
        "id": "heeU_wdlQhba",
        "outputId": "87c8d31f-1f52-4cbb-d9bb-569d7241d668"
      },
      "execution_count": 7,
      "outputs": [
        {
          "output_type": "stream",
          "name": "stdout",
          "text": [
            "--2023-12-07 16:06:15--  http://vectors.nlpl.eu/repository/20/196.zip\n",
            "Resolving vectors.nlpl.eu (vectors.nlpl.eu)... 129.240.189.181\n",
            "Connecting to vectors.nlpl.eu (vectors.nlpl.eu)|129.240.189.181|:80... connected.\n",
            "HTTP request sent, awaiting response... 200 OK\n",
            "Length: 206986351 (197M) [application/zip]\n",
            "Saving to: ‘196.zip’\n",
            "\n",
            "196.zip             100%[===================>] 197.40M  15.3MB/s    in 14s     \n",
            "\n",
            "2023-12-07 16:06:31 (13.9 MB/s) - ‘196.zip’ saved [206986351/206986351]\n",
            "\n",
            "Archive:  196.zip\n",
            "  inflating: 196/meta.json           \n",
            "  inflating: 196/model.hdf5          \n",
            "  inflating: 196/options.json        \n",
            "  inflating: 196/README              \n",
            "  inflating: 196/vocab.txt           \n"
          ]
        }
      ]
    },
    {
      "cell_type": "code",
      "source": [
        "import pandas as pd\n",
        "from tqdm import tqdm"
      ],
      "metadata": {
        "id": "5WSTrMjpj1Th"
      },
      "execution_count": 8,
      "outputs": []
    },
    {
      "cell_type": "code",
      "source": [
        "import nltk\n",
        "from nltk.tokenize import RegexpTokenizer\n",
        "from nltk.corpus import stopwords\n",
        "from pymorphy2 import MorphAnalyzer\n",
        "\n",
        "morph = MorphAnalyzer()\n",
        "tokenizer = RegexpTokenizer('\\w+')\n",
        "nltk.download('stopwords')\n",
        "stops = set(stopwords.words('russian'))"
      ],
      "metadata": {
        "colab": {
          "base_uri": "https://localhost:8080/"
        },
        "id": "KEyAvvmOhdUl",
        "outputId": "6613ade2-d59f-40db-b39a-2231f61b53e8"
      },
      "execution_count": 73,
      "outputs": [
        {
          "output_type": "stream",
          "name": "stderr",
          "text": [
            "[nltk_data] Downloading package stopwords to /root/nltk_data...\n",
            "[nltk_data]   Package stopwords is already up-to-date!\n"
          ]
        }
      ]
    },
    {
      "cell_type": "code",
      "source": [
        "words = ['автограф', 'адрес', 'ожидать', 'ручка', 'окончание']"
      ],
      "metadata": {
        "id": "kxUPzxwPg3Wo"
      },
      "execution_count": 55,
      "outputs": []
    },
    {
      "cell_type": "code",
      "source": [
        "word_definitions = {\n",
        "    'автограф': ['Собственноручная надпись или подпись.', 'Собственноручный авторский рукописный текст.'],\n",
        "    'адрес': ['Обозначение, указание местожительства, местонахождения кого-, чего-л.',\n",
        "                                   'Письменное приветствие, обращение к кому-л. в ознаменование какого-л. события.',\n",
        "                                   'Код, определяющий местоположение информации в электронной вычислительной машине.'],\n",
        "    'ожидать': [\n",
        "        'Оставаться, находиться где-л. некоторое время, зная заранее о предстоящем приходе, прибытии, появлении и т. п. кого-, чего-л. или совершении чего-л.; ждать.',\n",
        "        'Надеяться на что-л.; предполагать что-л.',\n",
        "        'Быть уготованным кому-л., предстоять.'],\n",
        "    'окончание': ['Завершение, доведение чего-л. до конца.',\n",
        "                                       'Заключительная часть, конец чего-л.', 'Грамматически изменяющаяся конечная часть слова; флексия.'],\n",
        "    'ручка': ['Уменьш.-ласк. к рука', 'Часть предмета, за которую его держат или берут рукой.',\n",
        "                                   'Часть кресла, дивана, на которую, сидя, опираются локтем; подлокотник.',\n",
        "                                   'Письменная принадлежность — палочка, в которую вставляется перо, стержень.']\n",
        "}"
      ],
      "metadata": {
        "id": "-6SEZEe9NzeV"
      },
      "execution_count": 56,
      "outputs": []
    },
    {
      "cell_type": "code",
      "source": [
        "def tokenize(text):\n",
        "    return tokenizer.tokenize(text)\n",
        "\n",
        "def normalize(text):\n",
        "    words = [morph.parse(word)[0].normal_form for word in tokenize(text) if word]\n",
        "    return words"
      ],
      "metadata": {
        "id": "AOLmxjiqh8sB"
      },
      "execution_count": 74,
      "outputs": []
    },
    {
      "cell_type": "markdown",
      "source": [
        "## Задание 2"
      ],
      "metadata": {
        "id": "wuQE4fc5FW2u"
      }
    },
    {
      "cell_type": "code",
      "source": [
        "from corus import load_morphoru_rnc"
      ],
      "metadata": {
        "id": "OuugZhnWgAXs"
      },
      "execution_count": 11,
      "outputs": []
    },
    {
      "cell_type": "code",
      "source": [
        "help(load_morphoru_rnc)"
      ],
      "metadata": {
        "colab": {
          "base_uri": "https://localhost:8080/"
        },
        "id": "UvIRwKIUih24",
        "outputId": "437e0d77-0d5d-44d1-dc78-1bc325e48ef2"
      },
      "execution_count": 12,
      "outputs": [
        {
          "output_type": "stream",
          "name": "stdout",
          "text": [
            "Help on function load_morphoru_rnc in module corus.sources.morphoru:\n",
            "\n",
            "load_morphoru_rnc(path)\n",
            "\n"
          ]
        }
      ]
    },
    {
      "cell_type": "code",
      "source": [
        "path = 'RNCgoldInUD_Morpho.conll'\n",
        "records = load_morphoru_rnc(path)"
      ],
      "metadata": {
        "id": "F3SlW81igRpe"
      },
      "execution_count": 46,
      "outputs": []
    },
    {
      "cell_type": "code",
      "source": [
        "contexts = {word: [] for word in words}\n",
        "\n",
        "for record in tqdm(records):\n",
        "  for token in record.tokens:\n",
        "    if token.lemma in words and record not in contexts[token.lemma]:\n",
        "      contexts[token.lemma].append(record)"
      ],
      "metadata": {
        "colab": {
          "base_uri": "https://localhost:8080/"
        },
        "id": "M_J7B9B9jQUA",
        "outputId": "305c4f96-80e9-4e04-c4e5-b6d46498223e"
      },
      "execution_count": 15,
      "outputs": [
        {
          "output_type": "stream",
          "name": "stderr",
          "text": [
            "98891it [00:08, 12224.34it/s]\n"
          ]
        }
      ]
    },
    {
      "cell_type": "code",
      "source": [
        "[(word, len(contexts[word])) for word in contexts]"
      ],
      "metadata": {
        "colab": {
          "base_uri": "https://localhost:8080/"
        },
        "id": "iWHMP8GYpo7o",
        "outputId": "1661ff26-150a-44dd-da4e-33c59c0c890d"
      },
      "execution_count": 16,
      "outputs": [
        {
          "output_type": "execute_result",
          "data": {
            "text/plain": [
              "[('автограф', 7),\n",
              " ('адрес', 73),\n",
              " ('ожидать', 107),\n",
              " ('ручка', 59),\n",
              " ('окончание', 47)]"
            ]
          },
          "metadata": {},
          "execution_count": 16
        }
      ]
    },
    {
      "cell_type": "markdown",
      "source": [
        "## Задание 3"
      ],
      "metadata": {
        "id": "TzMklf7ZFhtw"
      }
    },
    {
      "cell_type": "markdown",
      "source": [
        "AdaGram"
      ],
      "metadata": {
        "id": "0YzzkpqxFr2b"
      }
    },
    {
      "cell_type": "code",
      "source": [
        "import adagram"
      ],
      "metadata": {
        "id": "KFpOIweHoREp"
      },
      "execution_count": 17,
      "outputs": []
    },
    {
      "cell_type": "code",
      "source": [
        "adgrm = adagram.VectorModel.load('all.a010.p10.d300.w5.m100.nonorm.slim.joblib')"
      ],
      "metadata": {
        "id": "s8cL9rOuoKGE"
      },
      "execution_count": 18,
      "outputs": []
    },
    {
      "cell_type": "code",
      "source": [
        "import numpy as np"
      ],
      "metadata": {
        "id": "_vCatQ4WCDcz"
      },
      "execution_count": 19,
      "outputs": []
    },
    {
      "cell_type": "code",
      "source": [
        "disambg = []\n",
        "\n",
        "for word in contexts:\n",
        "    for context in contexts[word]:\n",
        "        new_res = dict()\n",
        "        new_res['word'] = word\n",
        "        context = [token.lemma for token in context.tokens if token.pos != 'PUNCT']\n",
        "        new_res['context'] = ' '.join(context)\n",
        "        probs = adgrm.disambiguate(word, context)\n",
        "        new_res['probs_adagram'] = probs\n",
        "        idx = np.argmax(probs)\n",
        "        new_res['result_adagram'] = idx\n",
        "        disambg.append(new_res)"
      ],
      "metadata": {
        "colab": {
          "base_uri": "https://localhost:8080/"
        },
        "id": "HAy-hA_Lynd3",
        "outputId": "8ba69219-674a-43be-c5cf-c85ac34c584d"
      },
      "execution_count": 85,
      "outputs": [
        {
          "output_type": "stream",
          "name": "stderr",
          "text": [
            "/usr/local/lib/python3.10/dist-packages/adagram/model.py:171: RuntimeWarning: divide by zero encountered in log\n",
            "  z = np.log(z)\n"
          ]
        }
      ]
    },
    {
      "cell_type": "code",
      "source": [
        "disambg[200:205]"
      ],
      "metadata": {
        "colab": {
          "base_uri": "https://localhost:8080/"
        },
        "id": "lOGx7hR6E22I",
        "outputId": "eabe237d-d7c3-4dc5-c8be-b845324a7ca9"
      },
      "execution_count": 87,
      "outputs": [
        {
          "output_type": "execute_result",
          "data": {
            "text/plain": [
              "[{'word': 'ручка',\n",
              "  'context': 'Алексей Петрович хотеть к мамочка на ручка',\n",
              "  'probs_adagram': array([0.02526127, 0.25495256, 0.04223999, 0.67754618, 0.        ,\n",
              "         0.        , 0.        , 0.        , 0.        , 0.        ]),\n",
              "  'result_adagram': 3},\n",
              " {'word': 'ручка',\n",
              "  'context': 'он жалкий пес виться у ее нога умолять но Мишина и впрямь решить белый партийно-комсомольский ручка свой мужской бельишко потереть в мыльный пена должен же быть понимать что надо одинокий мужчина',\n",
              "  'probs_adagram': array([1.65428188e-12, 7.61861116e-09, 4.05112028e-11, 9.99999992e-01,\n",
              "         0.00000000e+00, 0.00000000e+00, 0.00000000e+00, 0.00000000e+00,\n",
              "         0.00000000e+00, 0.00000000e+00]),\n",
              "  'result_adagram': 3},\n",
              " {'word': 'ручка',\n",
              "  'context': 'стоить накрутить до упор потертый деревянный ручка а потом отпустить не закреплять резинка и она приниматься бешено раскручиваться заставлять весь громоздкий ящик подпрыгивать судорожно и страшно',\n",
              "  'probs_adagram': array([3.65577644e-03, 9.96339895e-01, 5.34522403e-07, 3.79436965e-06,\n",
              "         0.00000000e+00, 0.00000000e+00, 0.00000000e+00, 0.00000000e+00,\n",
              "         0.00000000e+00, 0.00000000e+00]),\n",
              "  'result_adagram': 1},\n",
              " {'word': 'ручка',\n",
              "  'context': 'но главный достоинство патефон заключаться конечно не в то что он скакать как сумасшедший если отпустить ручка завод',\n",
              "  'probs_adagram': array([7.92775602e-01, 7.49878722e-04, 4.25185765e-02, 1.63955943e-01,\n",
              "         0.00000000e+00, 0.00000000e+00, 0.00000000e+00, 0.00000000e+00,\n",
              "         0.00000000e+00, 0.00000000e+00]),\n",
              "  'result_adagram': 0},\n",
              " {'word': 'ручка',\n",
              "  'context': 'тут же в комната влетать дед и ни слово не говорить поворачивать ручка до отказ',\n",
              "  'probs_adagram': array([0.00316263, 0.02551721, 0.04064431, 0.93067584, 0.        ,\n",
              "         0.        , 0.        , 0.        , 0.        , 0.        ]),\n",
              "  'result_adagram': 3}]"
            ]
          },
          "metadata": {},
          "execution_count": 87
        }
      ]
    },
    {
      "cell_type": "markdown",
      "source": [
        "ELMo"
      ],
      "metadata": {
        "id": "y_3xwsA7Fusz"
      }
    },
    {
      "cell_type": "code",
      "source": [
        "from simple_elmo import ElmoModel"
      ],
      "metadata": {
        "id": "ec5AdNZqQvfl"
      },
      "execution_count": 43,
      "outputs": []
    },
    {
      "cell_type": "code",
      "source": [
        "model = ElmoModel()\n",
        "model.load(\"196\")"
      ],
      "metadata": {
        "colab": {
          "base_uri": "https://localhost:8080/",
          "height": 91
        },
        "id": "W8aX8exJQZdS",
        "outputId": "577b2b38-e5ef-4782-d988-1816a9db0fa3"
      },
      "execution_count": 44,
      "outputs": [
        {
          "output_type": "stream",
          "name": "stderr",
          "text": [
            "/usr/local/lib/python3.10/dist-packages/simple_elmo/model.py:531: UserWarning: `tf.nn.rnn_cell.LSTMCell` is deprecated and will be removed in a future version. This class is equivalent as `tf.keras.layers.LSTMCell`, and will be replaced by that in Tensorflow 2.0.\n",
            "  lstm_cell = tf.compat.v1.nn.rnn_cell.LSTMCell(\n"
          ]
        },
        {
          "output_type": "execute_result",
          "data": {
            "text/plain": [
              "'The model is now loaded.'"
            ],
            "application/vnd.google.colaboratory.intrinsic+json": {
              "type": "string"
            }
          },
          "metadata": {},
          "execution_count": 44
        }
      ]
    },
    {
      "cell_type": "code",
      "source": [
        "def get_elmo_vectors(word, contexts, model):\n",
        "    tokens = [c.split() for c in contexts]\n",
        "    all_vectors = model.get_elmo_vectors(tokens)\n",
        "    word_vecs = []\n",
        "    error_indices = []\n",
        "    for i in range(len(contexts)):\n",
        "        try:\n",
        "            word_vecs.append(all_vectors[i][tokens[i].index(word)])\n",
        "        except ValueError:\n",
        "            error_indices.append(i)\n",
        "    return word_vecs, error_indices"
      ],
      "metadata": {
        "id": "FKtnzEnKRqWv"
      },
      "execution_count": 88,
      "outputs": []
    },
    {
      "cell_type": "code",
      "source": [
        "disambg_df = pd.DataFrame(disambg)"
      ],
      "metadata": {
        "id": "TufjDCThI3ai"
      },
      "execution_count": 89,
      "outputs": []
    },
    {
      "cell_type": "code",
      "source": [
        "from sklearn.cluster import KMeans"
      ],
      "metadata": {
        "id": "EeOVmTsfKwYn"
      },
      "execution_count": 90,
      "outputs": []
    },
    {
      "cell_type": "code",
      "source": [
        "grouped_df = disambg_df.groupby('word')[['word', 'context']]\n",
        "for word, _ in tqdm(grouped_df):\n",
        "    texts = grouped_df.get_group(word)['context']\n",
        "    vectors, error_indices = get_elmo_vectors(word, texts, model)\n",
        "    cluster = KMeans(n_clusters=len(word_definitions[word]), random_state=0, n_init='auto')\n",
        "    cluster.fit(vectors)\n",
        "    labels = np.array(cluster.labels_)\n",
        "    for i in error_indices:\n",
        "      labels = np.insert(labels, i, -1)\n",
        "    i0 = disambg_df.loc[disambg_df['word'] == word].index[0]\n",
        "    i1 = disambg_df.loc[disambg_df['word'] == word].index[-1]\n",
        "    disambg_df.loc[i0:i1, 'result_elmo'] = labels.astype(int)"
      ],
      "metadata": {
        "colab": {
          "base_uri": "https://localhost:8080/"
        },
        "id": "xYLEm671FqdO",
        "outputId": "c1bdd8d8-f0eb-4caf-8ccf-e9b1e247d6bc"
      },
      "execution_count": 91,
      "outputs": [
        {
          "output_type": "stream",
          "name": "stderr",
          "text": [
            "100%|██████████| 5/5 [00:56<00:00, 11.30s/it]\n"
          ]
        }
      ]
    },
    {
      "cell_type": "code",
      "source": [
        "disambg_df.head(5)"
      ],
      "metadata": {
        "colab": {
          "base_uri": "https://localhost:8080/",
          "height": 206
        },
        "id": "JECZu3bBUYDY",
        "outputId": "bb6ff248-3486-48b9-ef4f-ccdeada0afcf"
      },
      "execution_count": 92,
      "outputs": [
        {
          "output_type": "execute_result",
          "data": {
            "text/plain": [
              "       word                                            context  \\\n",
              "0  автограф  я подумать что это обычный охотник за автограф...   \n",
              "1  автограф                                           автограф   \n",
              "2  автограф                          музыка наполнить автограф   \n",
              "3  автограф  рядом фотография Ирина Одоевцева с автограф сп...   \n",
              "4  автограф  они подходить ко я протягивать двадцатидолларо...   \n",
              "\n",
              "                                       probs_adagram  result_adagram  \\\n",
              "0  [8.477810733427333e-06, 0.9999915221892666, 0....               1   \n",
              "1  [0.7025029340755407, 0.29749706592445935, 0.0,...               0   \n",
              "2  [0.7569964329030154, 0.2430035670969846, 0.0, ...               0   \n",
              "3  [0.07289724862082866, 0.9271027513791713, 0.0,...               1   \n",
              "4  [1.320086347973611e-08, 0.9999999867991365, 0....               1   \n",
              "\n",
              "   result_elmo  \n",
              "0          0.0  \n",
              "1          0.0  \n",
              "2          0.0  \n",
              "3          1.0  \n",
              "4          0.0  "
            ],
            "text/html": [
              "\n",
              "  <div id=\"df-6fd73123-6f0a-47ab-989d-cda2f798c4cd\" class=\"colab-df-container\">\n",
              "    <div>\n",
              "<style scoped>\n",
              "    .dataframe tbody tr th:only-of-type {\n",
              "        vertical-align: middle;\n",
              "    }\n",
              "\n",
              "    .dataframe tbody tr th {\n",
              "        vertical-align: top;\n",
              "    }\n",
              "\n",
              "    .dataframe thead th {\n",
              "        text-align: right;\n",
              "    }\n",
              "</style>\n",
              "<table border=\"1\" class=\"dataframe\">\n",
              "  <thead>\n",
              "    <tr style=\"text-align: right;\">\n",
              "      <th></th>\n",
              "      <th>word</th>\n",
              "      <th>context</th>\n",
              "      <th>probs_adagram</th>\n",
              "      <th>result_adagram</th>\n",
              "      <th>result_elmo</th>\n",
              "    </tr>\n",
              "  </thead>\n",
              "  <tbody>\n",
              "    <tr>\n",
              "      <th>0</th>\n",
              "      <td>автограф</td>\n",
              "      <td>я подумать что это обычный охотник за автограф...</td>\n",
              "      <td>[8.477810733427333e-06, 0.9999915221892666, 0....</td>\n",
              "      <td>1</td>\n",
              "      <td>0.0</td>\n",
              "    </tr>\n",
              "    <tr>\n",
              "      <th>1</th>\n",
              "      <td>автограф</td>\n",
              "      <td>автограф</td>\n",
              "      <td>[0.7025029340755407, 0.29749706592445935, 0.0,...</td>\n",
              "      <td>0</td>\n",
              "      <td>0.0</td>\n",
              "    </tr>\n",
              "    <tr>\n",
              "      <th>2</th>\n",
              "      <td>автограф</td>\n",
              "      <td>музыка наполнить автограф</td>\n",
              "      <td>[0.7569964329030154, 0.2430035670969846, 0.0, ...</td>\n",
              "      <td>0</td>\n",
              "      <td>0.0</td>\n",
              "    </tr>\n",
              "    <tr>\n",
              "      <th>3</th>\n",
              "      <td>автограф</td>\n",
              "      <td>рядом фотография Ирина Одоевцева с автограф сп...</td>\n",
              "      <td>[0.07289724862082866, 0.9271027513791713, 0.0,...</td>\n",
              "      <td>1</td>\n",
              "      <td>1.0</td>\n",
              "    </tr>\n",
              "    <tr>\n",
              "      <th>4</th>\n",
              "      <td>автограф</td>\n",
              "      <td>они подходить ко я протягивать двадцатидолларо...</td>\n",
              "      <td>[1.320086347973611e-08, 0.9999999867991365, 0....</td>\n",
              "      <td>1</td>\n",
              "      <td>0.0</td>\n",
              "    </tr>\n",
              "  </tbody>\n",
              "</table>\n",
              "</div>\n",
              "    <div class=\"colab-df-buttons\">\n",
              "\n",
              "  <div class=\"colab-df-container\">\n",
              "    <button class=\"colab-df-convert\" onclick=\"convertToInteractive('df-6fd73123-6f0a-47ab-989d-cda2f798c4cd')\"\n",
              "            title=\"Convert this dataframe to an interactive table.\"\n",
              "            style=\"display:none;\">\n",
              "\n",
              "  <svg xmlns=\"http://www.w3.org/2000/svg\" height=\"24px\" viewBox=\"0 -960 960 960\">\n",
              "    <path d=\"M120-120v-720h720v720H120Zm60-500h600v-160H180v160Zm220 220h160v-160H400v160Zm0 220h160v-160H400v160ZM180-400h160v-160H180v160Zm440 0h160v-160H620v160ZM180-180h160v-160H180v160Zm440 0h160v-160H620v160Z\"/>\n",
              "  </svg>\n",
              "    </button>\n",
              "\n",
              "  <style>\n",
              "    .colab-df-container {\n",
              "      display:flex;\n",
              "      gap: 12px;\n",
              "    }\n",
              "\n",
              "    .colab-df-convert {\n",
              "      background-color: #E8F0FE;\n",
              "      border: none;\n",
              "      border-radius: 50%;\n",
              "      cursor: pointer;\n",
              "      display: none;\n",
              "      fill: #1967D2;\n",
              "      height: 32px;\n",
              "      padding: 0 0 0 0;\n",
              "      width: 32px;\n",
              "    }\n",
              "\n",
              "    .colab-df-convert:hover {\n",
              "      background-color: #E2EBFA;\n",
              "      box-shadow: 0px 1px 2px rgba(60, 64, 67, 0.3), 0px 1px 3px 1px rgba(60, 64, 67, 0.15);\n",
              "      fill: #174EA6;\n",
              "    }\n",
              "\n",
              "    .colab-df-buttons div {\n",
              "      margin-bottom: 4px;\n",
              "    }\n",
              "\n",
              "    [theme=dark] .colab-df-convert {\n",
              "      background-color: #3B4455;\n",
              "      fill: #D2E3FC;\n",
              "    }\n",
              "\n",
              "    [theme=dark] .colab-df-convert:hover {\n",
              "      background-color: #434B5C;\n",
              "      box-shadow: 0px 1px 3px 1px rgba(0, 0, 0, 0.15);\n",
              "      filter: drop-shadow(0px 1px 2px rgba(0, 0, 0, 0.3));\n",
              "      fill: #FFFFFF;\n",
              "    }\n",
              "  </style>\n",
              "\n",
              "    <script>\n",
              "      const buttonEl =\n",
              "        document.querySelector('#df-6fd73123-6f0a-47ab-989d-cda2f798c4cd button.colab-df-convert');\n",
              "      buttonEl.style.display =\n",
              "        google.colab.kernel.accessAllowed ? 'block' : 'none';\n",
              "\n",
              "      async function convertToInteractive(key) {\n",
              "        const element = document.querySelector('#df-6fd73123-6f0a-47ab-989d-cda2f798c4cd');\n",
              "        const dataTable =\n",
              "          await google.colab.kernel.invokeFunction('convertToInteractive',\n",
              "                                                    [key], {});\n",
              "        if (!dataTable) return;\n",
              "\n",
              "        const docLinkHtml = 'Like what you see? Visit the ' +\n",
              "          '<a target=\"_blank\" href=https://colab.research.google.com/notebooks/data_table.ipynb>data table notebook</a>'\n",
              "          + ' to learn more about interactive tables.';\n",
              "        element.innerHTML = '';\n",
              "        dataTable['output_type'] = 'display_data';\n",
              "        await google.colab.output.renderOutput(dataTable, element);\n",
              "        const docLink = document.createElement('div');\n",
              "        docLink.innerHTML = docLinkHtml;\n",
              "        element.appendChild(docLink);\n",
              "      }\n",
              "    </script>\n",
              "  </div>\n",
              "\n",
              "\n",
              "<div id=\"df-0d50ca17-ef89-434f-8870-23aa83da6696\">\n",
              "  <button class=\"colab-df-quickchart\" onclick=\"quickchart('df-0d50ca17-ef89-434f-8870-23aa83da6696')\"\n",
              "            title=\"Suggest charts\"\n",
              "            style=\"display:none;\">\n",
              "\n",
              "<svg xmlns=\"http://www.w3.org/2000/svg\" height=\"24px\"viewBox=\"0 0 24 24\"\n",
              "     width=\"24px\">\n",
              "    <g>\n",
              "        <path d=\"M19 3H5c-1.1 0-2 .9-2 2v14c0 1.1.9 2 2 2h14c1.1 0 2-.9 2-2V5c0-1.1-.9-2-2-2zM9 17H7v-7h2v7zm4 0h-2V7h2v10zm4 0h-2v-4h2v4z\"/>\n",
              "    </g>\n",
              "</svg>\n",
              "  </button>\n",
              "\n",
              "<style>\n",
              "  .colab-df-quickchart {\n",
              "      --bg-color: #E8F0FE;\n",
              "      --fill-color: #1967D2;\n",
              "      --hover-bg-color: #E2EBFA;\n",
              "      --hover-fill-color: #174EA6;\n",
              "      --disabled-fill-color: #AAA;\n",
              "      --disabled-bg-color: #DDD;\n",
              "  }\n",
              "\n",
              "  [theme=dark] .colab-df-quickchart {\n",
              "      --bg-color: #3B4455;\n",
              "      --fill-color: #D2E3FC;\n",
              "      --hover-bg-color: #434B5C;\n",
              "      --hover-fill-color: #FFFFFF;\n",
              "      --disabled-bg-color: #3B4455;\n",
              "      --disabled-fill-color: #666;\n",
              "  }\n",
              "\n",
              "  .colab-df-quickchart {\n",
              "    background-color: var(--bg-color);\n",
              "    border: none;\n",
              "    border-radius: 50%;\n",
              "    cursor: pointer;\n",
              "    display: none;\n",
              "    fill: var(--fill-color);\n",
              "    height: 32px;\n",
              "    padding: 0;\n",
              "    width: 32px;\n",
              "  }\n",
              "\n",
              "  .colab-df-quickchart:hover {\n",
              "    background-color: var(--hover-bg-color);\n",
              "    box-shadow: 0 1px 2px rgba(60, 64, 67, 0.3), 0 1px 3px 1px rgba(60, 64, 67, 0.15);\n",
              "    fill: var(--button-hover-fill-color);\n",
              "  }\n",
              "\n",
              "  .colab-df-quickchart-complete:disabled,\n",
              "  .colab-df-quickchart-complete:disabled:hover {\n",
              "    background-color: var(--disabled-bg-color);\n",
              "    fill: var(--disabled-fill-color);\n",
              "    box-shadow: none;\n",
              "  }\n",
              "\n",
              "  .colab-df-spinner {\n",
              "    border: 2px solid var(--fill-color);\n",
              "    border-color: transparent;\n",
              "    border-bottom-color: var(--fill-color);\n",
              "    animation:\n",
              "      spin 1s steps(1) infinite;\n",
              "  }\n",
              "\n",
              "  @keyframes spin {\n",
              "    0% {\n",
              "      border-color: transparent;\n",
              "      border-bottom-color: var(--fill-color);\n",
              "      border-left-color: var(--fill-color);\n",
              "    }\n",
              "    20% {\n",
              "      border-color: transparent;\n",
              "      border-left-color: var(--fill-color);\n",
              "      border-top-color: var(--fill-color);\n",
              "    }\n",
              "    30% {\n",
              "      border-color: transparent;\n",
              "      border-left-color: var(--fill-color);\n",
              "      border-top-color: var(--fill-color);\n",
              "      border-right-color: var(--fill-color);\n",
              "    }\n",
              "    40% {\n",
              "      border-color: transparent;\n",
              "      border-right-color: var(--fill-color);\n",
              "      border-top-color: var(--fill-color);\n",
              "    }\n",
              "    60% {\n",
              "      border-color: transparent;\n",
              "      border-right-color: var(--fill-color);\n",
              "    }\n",
              "    80% {\n",
              "      border-color: transparent;\n",
              "      border-right-color: var(--fill-color);\n",
              "      border-bottom-color: var(--fill-color);\n",
              "    }\n",
              "    90% {\n",
              "      border-color: transparent;\n",
              "      border-bottom-color: var(--fill-color);\n",
              "    }\n",
              "  }\n",
              "</style>\n",
              "\n",
              "  <script>\n",
              "    async function quickchart(key) {\n",
              "      const quickchartButtonEl =\n",
              "        document.querySelector('#' + key + ' button');\n",
              "      quickchartButtonEl.disabled = true;  // To prevent multiple clicks.\n",
              "      quickchartButtonEl.classList.add('colab-df-spinner');\n",
              "      try {\n",
              "        const charts = await google.colab.kernel.invokeFunction(\n",
              "            'suggestCharts', [key], {});\n",
              "      } catch (error) {\n",
              "        console.error('Error during call to suggestCharts:', error);\n",
              "      }\n",
              "      quickchartButtonEl.classList.remove('colab-df-spinner');\n",
              "      quickchartButtonEl.classList.add('colab-df-quickchart-complete');\n",
              "    }\n",
              "    (() => {\n",
              "      let quickchartButtonEl =\n",
              "        document.querySelector('#df-0d50ca17-ef89-434f-8870-23aa83da6696 button');\n",
              "      quickchartButtonEl.style.display =\n",
              "        google.colab.kernel.accessAllowed ? 'block' : 'none';\n",
              "    })();\n",
              "  </script>\n",
              "</div>\n",
              "    </div>\n",
              "  </div>\n"
            ]
          },
          "metadata": {},
          "execution_count": 92
        }
      ]
    },
    {
      "cell_type": "markdown",
      "source": [
        "## Задание 4"
      ],
      "metadata": {
        "id": "NWIa5S7QUkRB"
      }
    },
    {
      "cell_type": "code",
      "source": [
        "def_preds = []\n",
        "\n",
        "for word in word_definitions:\n",
        "    for definition in word_definitions[word]:\n",
        "        new_res = dict()\n",
        "        new_res['word'] = word\n",
        "        new_res['context'] = definition\n",
        "        definition_norm = normalize(definition)\n",
        "        probs = adgrm.disambiguate(word, definition_norm)\n",
        "        idx = np.argmax(probs)\n",
        "        new_res['result_adagram'] = idx\n",
        "        def_preds.append(new_res)"
      ],
      "metadata": {
        "colab": {
          "base_uri": "https://localhost:8080/"
        },
        "id": "f5m3n-QBXGk1",
        "outputId": "0ada086e-527d-46f2-c4b2-184599db9d21"
      },
      "execution_count": 93,
      "outputs": [
        {
          "output_type": "stream",
          "name": "stderr",
          "text": [
            "/usr/local/lib/python3.10/dist-packages/adagram/model.py:171: RuntimeWarning: divide by zero encountered in log\n",
            "  z = np.log(z)\n"
          ]
        }
      ]
    },
    {
      "cell_type": "code",
      "source": [
        "def_preds[3]"
      ],
      "metadata": {
        "colab": {
          "base_uri": "https://localhost:8080/"
        },
        "id": "hNkI7wZNZvAO",
        "outputId": "bd2f1ace-97df-4271-acde-e9e4fdc45e12"
      },
      "execution_count": 94,
      "outputs": [
        {
          "output_type": "execute_result",
          "data": {
            "text/plain": [
              "{'word': 'адрес',\n",
              " 'context': 'Письменное приветствие, обращение к кому-л. в ознаменование какого-л. события.',\n",
              " 'result_adagram': 4}"
            ]
          },
          "metadata": {},
          "execution_count": 94
        }
      ]
    },
    {
      "cell_type": "code",
      "source": [
        "def_df = pd.DataFrame(def_preds)\n",
        "def_df.head(15)"
      ],
      "metadata": {
        "colab": {
          "base_uri": "https://localhost:8080/",
          "height": 519
        },
        "id": "MVIXfto9UloT",
        "outputId": "96448afa-e6de-4d7e-b8a9-0b02382113dd"
      },
      "execution_count": 96,
      "outputs": [
        {
          "output_type": "execute_result",
          "data": {
            "text/plain": [
              "         word                                            context  \\\n",
              "0    автограф              Собственноручная надпись или подпись.   \n",
              "1    автограф       Собственноручный авторский рукописный текст.   \n",
              "2       адрес  Обозначение, указание местожительства, местона...   \n",
              "3       адрес  Письменное приветствие, обращение к кому-л. в ...   \n",
              "4       адрес  Код, определяющий местоположение информации в ...   \n",
              "5     ожидать  Оставаться, находиться где-л. некоторое время,...   \n",
              "6     ожидать           Надеяться на что-л.; предполагать что-л.   \n",
              "7     ожидать              Быть уготованным кому-л., предстоять.   \n",
              "8   окончание            Завершение, доведение чего-л. до конца.   \n",
              "9   окончание                Заключительная часть, конец чего-л.   \n",
              "10  окончание  Грамматически изменяющаяся конечная часть слов...   \n",
              "11      ручка                               Уменьш.-ласк. к рука   \n",
              "12      ручка  Часть предмета, за которую его держат или беру...   \n",
              "13      ручка  Часть кресла, дивана, на которую, сидя, опираю...   \n",
              "14      ручка  Письменная принадлежность — палочка, в которую...   \n",
              "\n",
              "    result_adagram  \n",
              "0                0  \n",
              "1                0  \n",
              "2                2  \n",
              "3                4  \n",
              "4                2  \n",
              "5                0  \n",
              "6                1  \n",
              "7                0  \n",
              "8                3  \n",
              "9                5  \n",
              "10               5  \n",
              "11               3  \n",
              "12               1  \n",
              "13               1  \n",
              "14               2  "
            ],
            "text/html": [
              "\n",
              "  <div id=\"df-bf43d6a9-1a20-4875-9be5-931550e30c3c\" class=\"colab-df-container\">\n",
              "    <div>\n",
              "<style scoped>\n",
              "    .dataframe tbody tr th:only-of-type {\n",
              "        vertical-align: middle;\n",
              "    }\n",
              "\n",
              "    .dataframe tbody tr th {\n",
              "        vertical-align: top;\n",
              "    }\n",
              "\n",
              "    .dataframe thead th {\n",
              "        text-align: right;\n",
              "    }\n",
              "</style>\n",
              "<table border=\"1\" class=\"dataframe\">\n",
              "  <thead>\n",
              "    <tr style=\"text-align: right;\">\n",
              "      <th></th>\n",
              "      <th>word</th>\n",
              "      <th>context</th>\n",
              "      <th>result_adagram</th>\n",
              "    </tr>\n",
              "  </thead>\n",
              "  <tbody>\n",
              "    <tr>\n",
              "      <th>0</th>\n",
              "      <td>автограф</td>\n",
              "      <td>Собственноручная надпись или подпись.</td>\n",
              "      <td>0</td>\n",
              "    </tr>\n",
              "    <tr>\n",
              "      <th>1</th>\n",
              "      <td>автограф</td>\n",
              "      <td>Собственноручный авторский рукописный текст.</td>\n",
              "      <td>0</td>\n",
              "    </tr>\n",
              "    <tr>\n",
              "      <th>2</th>\n",
              "      <td>адрес</td>\n",
              "      <td>Обозначение, указание местожительства, местона...</td>\n",
              "      <td>2</td>\n",
              "    </tr>\n",
              "    <tr>\n",
              "      <th>3</th>\n",
              "      <td>адрес</td>\n",
              "      <td>Письменное приветствие, обращение к кому-л. в ...</td>\n",
              "      <td>4</td>\n",
              "    </tr>\n",
              "    <tr>\n",
              "      <th>4</th>\n",
              "      <td>адрес</td>\n",
              "      <td>Код, определяющий местоположение информации в ...</td>\n",
              "      <td>2</td>\n",
              "    </tr>\n",
              "    <tr>\n",
              "      <th>5</th>\n",
              "      <td>ожидать</td>\n",
              "      <td>Оставаться, находиться где-л. некоторое время,...</td>\n",
              "      <td>0</td>\n",
              "    </tr>\n",
              "    <tr>\n",
              "      <th>6</th>\n",
              "      <td>ожидать</td>\n",
              "      <td>Надеяться на что-л.; предполагать что-л.</td>\n",
              "      <td>1</td>\n",
              "    </tr>\n",
              "    <tr>\n",
              "      <th>7</th>\n",
              "      <td>ожидать</td>\n",
              "      <td>Быть уготованным кому-л., предстоять.</td>\n",
              "      <td>0</td>\n",
              "    </tr>\n",
              "    <tr>\n",
              "      <th>8</th>\n",
              "      <td>окончание</td>\n",
              "      <td>Завершение, доведение чего-л. до конца.</td>\n",
              "      <td>3</td>\n",
              "    </tr>\n",
              "    <tr>\n",
              "      <th>9</th>\n",
              "      <td>окончание</td>\n",
              "      <td>Заключительная часть, конец чего-л.</td>\n",
              "      <td>5</td>\n",
              "    </tr>\n",
              "    <tr>\n",
              "      <th>10</th>\n",
              "      <td>окончание</td>\n",
              "      <td>Грамматически изменяющаяся конечная часть слов...</td>\n",
              "      <td>5</td>\n",
              "    </tr>\n",
              "    <tr>\n",
              "      <th>11</th>\n",
              "      <td>ручка</td>\n",
              "      <td>Уменьш.-ласк. к рука</td>\n",
              "      <td>3</td>\n",
              "    </tr>\n",
              "    <tr>\n",
              "      <th>12</th>\n",
              "      <td>ручка</td>\n",
              "      <td>Часть предмета, за которую его держат или беру...</td>\n",
              "      <td>1</td>\n",
              "    </tr>\n",
              "    <tr>\n",
              "      <th>13</th>\n",
              "      <td>ручка</td>\n",
              "      <td>Часть кресла, дивана, на которую, сидя, опираю...</td>\n",
              "      <td>1</td>\n",
              "    </tr>\n",
              "    <tr>\n",
              "      <th>14</th>\n",
              "      <td>ручка</td>\n",
              "      <td>Письменная принадлежность — палочка, в которую...</td>\n",
              "      <td>2</td>\n",
              "    </tr>\n",
              "  </tbody>\n",
              "</table>\n",
              "</div>\n",
              "    <div class=\"colab-df-buttons\">\n",
              "\n",
              "  <div class=\"colab-df-container\">\n",
              "    <button class=\"colab-df-convert\" onclick=\"convertToInteractive('df-bf43d6a9-1a20-4875-9be5-931550e30c3c')\"\n",
              "            title=\"Convert this dataframe to an interactive table.\"\n",
              "            style=\"display:none;\">\n",
              "\n",
              "  <svg xmlns=\"http://www.w3.org/2000/svg\" height=\"24px\" viewBox=\"0 -960 960 960\">\n",
              "    <path d=\"M120-120v-720h720v720H120Zm60-500h600v-160H180v160Zm220 220h160v-160H400v160Zm0 220h160v-160H400v160ZM180-400h160v-160H180v160Zm440 0h160v-160H620v160ZM180-180h160v-160H180v160Zm440 0h160v-160H620v160Z\"/>\n",
              "  </svg>\n",
              "    </button>\n",
              "\n",
              "  <style>\n",
              "    .colab-df-container {\n",
              "      display:flex;\n",
              "      gap: 12px;\n",
              "    }\n",
              "\n",
              "    .colab-df-convert {\n",
              "      background-color: #E8F0FE;\n",
              "      border: none;\n",
              "      border-radius: 50%;\n",
              "      cursor: pointer;\n",
              "      display: none;\n",
              "      fill: #1967D2;\n",
              "      height: 32px;\n",
              "      padding: 0 0 0 0;\n",
              "      width: 32px;\n",
              "    }\n",
              "\n",
              "    .colab-df-convert:hover {\n",
              "      background-color: #E2EBFA;\n",
              "      box-shadow: 0px 1px 2px rgba(60, 64, 67, 0.3), 0px 1px 3px 1px rgba(60, 64, 67, 0.15);\n",
              "      fill: #174EA6;\n",
              "    }\n",
              "\n",
              "    .colab-df-buttons div {\n",
              "      margin-bottom: 4px;\n",
              "    }\n",
              "\n",
              "    [theme=dark] .colab-df-convert {\n",
              "      background-color: #3B4455;\n",
              "      fill: #D2E3FC;\n",
              "    }\n",
              "\n",
              "    [theme=dark] .colab-df-convert:hover {\n",
              "      background-color: #434B5C;\n",
              "      box-shadow: 0px 1px 3px 1px rgba(0, 0, 0, 0.15);\n",
              "      filter: drop-shadow(0px 1px 2px rgba(0, 0, 0, 0.3));\n",
              "      fill: #FFFFFF;\n",
              "    }\n",
              "  </style>\n",
              "\n",
              "    <script>\n",
              "      const buttonEl =\n",
              "        document.querySelector('#df-bf43d6a9-1a20-4875-9be5-931550e30c3c button.colab-df-convert');\n",
              "      buttonEl.style.display =\n",
              "        google.colab.kernel.accessAllowed ? 'block' : 'none';\n",
              "\n",
              "      async function convertToInteractive(key) {\n",
              "        const element = document.querySelector('#df-bf43d6a9-1a20-4875-9be5-931550e30c3c');\n",
              "        const dataTable =\n",
              "          await google.colab.kernel.invokeFunction('convertToInteractive',\n",
              "                                                    [key], {});\n",
              "        if (!dataTable) return;\n",
              "\n",
              "        const docLinkHtml = 'Like what you see? Visit the ' +\n",
              "          '<a target=\"_blank\" href=https://colab.research.google.com/notebooks/data_table.ipynb>data table notebook</a>'\n",
              "          + ' to learn more about interactive tables.';\n",
              "        element.innerHTML = '';\n",
              "        dataTable['output_type'] = 'display_data';\n",
              "        await google.colab.output.renderOutput(dataTable, element);\n",
              "        const docLink = document.createElement('div');\n",
              "        docLink.innerHTML = docLinkHtml;\n",
              "        element.appendChild(docLink);\n",
              "      }\n",
              "    </script>\n",
              "  </div>\n",
              "\n",
              "\n",
              "<div id=\"df-a852c36a-e308-4c36-9b5d-18339034e627\">\n",
              "  <button class=\"colab-df-quickchart\" onclick=\"quickchart('df-a852c36a-e308-4c36-9b5d-18339034e627')\"\n",
              "            title=\"Suggest charts\"\n",
              "            style=\"display:none;\">\n",
              "\n",
              "<svg xmlns=\"http://www.w3.org/2000/svg\" height=\"24px\"viewBox=\"0 0 24 24\"\n",
              "     width=\"24px\">\n",
              "    <g>\n",
              "        <path d=\"M19 3H5c-1.1 0-2 .9-2 2v14c0 1.1.9 2 2 2h14c1.1 0 2-.9 2-2V5c0-1.1-.9-2-2-2zM9 17H7v-7h2v7zm4 0h-2V7h2v10zm4 0h-2v-4h2v4z\"/>\n",
              "    </g>\n",
              "</svg>\n",
              "  </button>\n",
              "\n",
              "<style>\n",
              "  .colab-df-quickchart {\n",
              "      --bg-color: #E8F0FE;\n",
              "      --fill-color: #1967D2;\n",
              "      --hover-bg-color: #E2EBFA;\n",
              "      --hover-fill-color: #174EA6;\n",
              "      --disabled-fill-color: #AAA;\n",
              "      --disabled-bg-color: #DDD;\n",
              "  }\n",
              "\n",
              "  [theme=dark] .colab-df-quickchart {\n",
              "      --bg-color: #3B4455;\n",
              "      --fill-color: #D2E3FC;\n",
              "      --hover-bg-color: #434B5C;\n",
              "      --hover-fill-color: #FFFFFF;\n",
              "      --disabled-bg-color: #3B4455;\n",
              "      --disabled-fill-color: #666;\n",
              "  }\n",
              "\n",
              "  .colab-df-quickchart {\n",
              "    background-color: var(--bg-color);\n",
              "    border: none;\n",
              "    border-radius: 50%;\n",
              "    cursor: pointer;\n",
              "    display: none;\n",
              "    fill: var(--fill-color);\n",
              "    height: 32px;\n",
              "    padding: 0;\n",
              "    width: 32px;\n",
              "  }\n",
              "\n",
              "  .colab-df-quickchart:hover {\n",
              "    background-color: var(--hover-bg-color);\n",
              "    box-shadow: 0 1px 2px rgba(60, 64, 67, 0.3), 0 1px 3px 1px rgba(60, 64, 67, 0.15);\n",
              "    fill: var(--button-hover-fill-color);\n",
              "  }\n",
              "\n",
              "  .colab-df-quickchart-complete:disabled,\n",
              "  .colab-df-quickchart-complete:disabled:hover {\n",
              "    background-color: var(--disabled-bg-color);\n",
              "    fill: var(--disabled-fill-color);\n",
              "    box-shadow: none;\n",
              "  }\n",
              "\n",
              "  .colab-df-spinner {\n",
              "    border: 2px solid var(--fill-color);\n",
              "    border-color: transparent;\n",
              "    border-bottom-color: var(--fill-color);\n",
              "    animation:\n",
              "      spin 1s steps(1) infinite;\n",
              "  }\n",
              "\n",
              "  @keyframes spin {\n",
              "    0% {\n",
              "      border-color: transparent;\n",
              "      border-bottom-color: var(--fill-color);\n",
              "      border-left-color: var(--fill-color);\n",
              "    }\n",
              "    20% {\n",
              "      border-color: transparent;\n",
              "      border-left-color: var(--fill-color);\n",
              "      border-top-color: var(--fill-color);\n",
              "    }\n",
              "    30% {\n",
              "      border-color: transparent;\n",
              "      border-left-color: var(--fill-color);\n",
              "      border-top-color: var(--fill-color);\n",
              "      border-right-color: var(--fill-color);\n",
              "    }\n",
              "    40% {\n",
              "      border-color: transparent;\n",
              "      border-right-color: var(--fill-color);\n",
              "      border-top-color: var(--fill-color);\n",
              "    }\n",
              "    60% {\n",
              "      border-color: transparent;\n",
              "      border-right-color: var(--fill-color);\n",
              "    }\n",
              "    80% {\n",
              "      border-color: transparent;\n",
              "      border-right-color: var(--fill-color);\n",
              "      border-bottom-color: var(--fill-color);\n",
              "    }\n",
              "    90% {\n",
              "      border-color: transparent;\n",
              "      border-bottom-color: var(--fill-color);\n",
              "    }\n",
              "  }\n",
              "</style>\n",
              "\n",
              "  <script>\n",
              "    async function quickchart(key) {\n",
              "      const quickchartButtonEl =\n",
              "        document.querySelector('#' + key + ' button');\n",
              "      quickchartButtonEl.disabled = true;  // To prevent multiple clicks.\n",
              "      quickchartButtonEl.classList.add('colab-df-spinner');\n",
              "      try {\n",
              "        const charts = await google.colab.kernel.invokeFunction(\n",
              "            'suggestCharts', [key], {});\n",
              "      } catch (error) {\n",
              "        console.error('Error during call to suggestCharts:', error);\n",
              "      }\n",
              "      quickchartButtonEl.classList.remove('colab-df-spinner');\n",
              "      quickchartButtonEl.classList.add('colab-df-quickchart-complete');\n",
              "    }\n",
              "    (() => {\n",
              "      let quickchartButtonEl =\n",
              "        document.querySelector('#df-a852c36a-e308-4c36-9b5d-18339034e627 button');\n",
              "      quickchartButtonEl.style.display =\n",
              "        google.colab.kernel.accessAllowed ? 'block' : 'none';\n",
              "    })();\n",
              "  </script>\n",
              "</div>\n",
              "    </div>\n",
              "  </div>\n"
            ]
          },
          "metadata": {},
          "execution_count": 96
        }
      ]
    },
    {
      "cell_type": "code",
      "source": [
        "grouped_df = disambg_df.groupby('word')[['word', 'context']]\n",
        "grouped_defs = def_df.groupby('word')[['word', 'context']]\n",
        "\n",
        "for word, _ in tqdm(grouped_df):\n",
        "    texts = grouped_df.get_group(word)['context'].to_list()\n",
        "    ln = len(texts)\n",
        "    texts.extend(grouped_defs.get_group(word)['context'].to_list())\n",
        "    vectors, error_indices = get_elmo_vectors(word, texts, model)\n",
        "    cluster = KMeans(n_clusters=len(word_definitions[word]), random_state=0, n_init='auto')\n",
        "    cluster.fit(vectors)\n",
        "    labels = np.array(cluster.labels_)\n",
        "    for i in error_indices:\n",
        "      labels = np.insert(labels, i, -1)\n",
        "\n",
        "    i0 = disambg_df.loc[disambg_df['word'] == word].index[0]\n",
        "    i1 = disambg_df.loc[disambg_df['word'] == word].index[-1]\n",
        "    disambg_df.loc[i0:i1, 'result_elmo'] = labels[:ln].astype(int)\n",
        "\n",
        "    j0 = def_df.loc[def_df['word'] == word].index[0]\n",
        "    j1 = def_df.loc[def_df['word'] == word].index[-1]\n",
        "    def_df.loc[j0:j1, 'result_elmo'] = labels[ln:].astype(int)"
      ],
      "metadata": {
        "colab": {
          "base_uri": "https://localhost:8080/"
        },
        "id": "YI47HmPQaFcI",
        "outputId": "bc959bd7-0e5b-498a-fadd-617de51221f7"
      },
      "execution_count": 111,
      "outputs": [
        {
          "output_type": "stream",
          "name": "stderr",
          "text": [
            "100%|██████████| 5/5 [00:59<00:00, 11.89s/it]\n"
          ]
        }
      ]
    },
    {
      "cell_type": "code",
      "source": [
        "def_df.head()"
      ],
      "metadata": {
        "colab": {
          "base_uri": "https://localhost:8080/",
          "height": 206
        },
        "id": "ISZv36UEmPri",
        "outputId": "514494ae-b3de-4f47-f694-7da74475daf8"
      },
      "execution_count": 112,
      "outputs": [
        {
          "output_type": "execute_result",
          "data": {
            "text/plain": [
              "       word                                            context  \\\n",
              "0  автограф              Собственноручная надпись или подпись.   \n",
              "1  автограф       Собственноручный авторский рукописный текст.   \n",
              "2     адрес  Обозначение, указание местожительства, местона...   \n",
              "3     адрес  Письменное приветствие, обращение к кому-л. в ...   \n",
              "4     адрес  Код, определяющий местоположение информации в ...   \n",
              "\n",
              "   result_adagram  result_elmo  \n",
              "0               0         -1.0  \n",
              "1               0         -1.0  \n",
              "2               2         -1.0  \n",
              "3               4         -1.0  \n",
              "4               2         -1.0  "
            ],
            "text/html": [
              "\n",
              "  <div id=\"df-ae08a518-d1d4-492c-a3aa-19e9c658f5ec\" class=\"colab-df-container\">\n",
              "    <div>\n",
              "<style scoped>\n",
              "    .dataframe tbody tr th:only-of-type {\n",
              "        vertical-align: middle;\n",
              "    }\n",
              "\n",
              "    .dataframe tbody tr th {\n",
              "        vertical-align: top;\n",
              "    }\n",
              "\n",
              "    .dataframe thead th {\n",
              "        text-align: right;\n",
              "    }\n",
              "</style>\n",
              "<table border=\"1\" class=\"dataframe\">\n",
              "  <thead>\n",
              "    <tr style=\"text-align: right;\">\n",
              "      <th></th>\n",
              "      <th>word</th>\n",
              "      <th>context</th>\n",
              "      <th>result_adagram</th>\n",
              "      <th>result_elmo</th>\n",
              "    </tr>\n",
              "  </thead>\n",
              "  <tbody>\n",
              "    <tr>\n",
              "      <th>0</th>\n",
              "      <td>автограф</td>\n",
              "      <td>Собственноручная надпись или подпись.</td>\n",
              "      <td>0</td>\n",
              "      <td>-1.0</td>\n",
              "    </tr>\n",
              "    <tr>\n",
              "      <th>1</th>\n",
              "      <td>автограф</td>\n",
              "      <td>Собственноручный авторский рукописный текст.</td>\n",
              "      <td>0</td>\n",
              "      <td>-1.0</td>\n",
              "    </tr>\n",
              "    <tr>\n",
              "      <th>2</th>\n",
              "      <td>адрес</td>\n",
              "      <td>Обозначение, указание местожительства, местона...</td>\n",
              "      <td>2</td>\n",
              "      <td>-1.0</td>\n",
              "    </tr>\n",
              "    <tr>\n",
              "      <th>3</th>\n",
              "      <td>адрес</td>\n",
              "      <td>Письменное приветствие, обращение к кому-л. в ...</td>\n",
              "      <td>4</td>\n",
              "      <td>-1.0</td>\n",
              "    </tr>\n",
              "    <tr>\n",
              "      <th>4</th>\n",
              "      <td>адрес</td>\n",
              "      <td>Код, определяющий местоположение информации в ...</td>\n",
              "      <td>2</td>\n",
              "      <td>-1.0</td>\n",
              "    </tr>\n",
              "  </tbody>\n",
              "</table>\n",
              "</div>\n",
              "    <div class=\"colab-df-buttons\">\n",
              "\n",
              "  <div class=\"colab-df-container\">\n",
              "    <button class=\"colab-df-convert\" onclick=\"convertToInteractive('df-ae08a518-d1d4-492c-a3aa-19e9c658f5ec')\"\n",
              "            title=\"Convert this dataframe to an interactive table.\"\n",
              "            style=\"display:none;\">\n",
              "\n",
              "  <svg xmlns=\"http://www.w3.org/2000/svg\" height=\"24px\" viewBox=\"0 -960 960 960\">\n",
              "    <path d=\"M120-120v-720h720v720H120Zm60-500h600v-160H180v160Zm220 220h160v-160H400v160Zm0 220h160v-160H400v160ZM180-400h160v-160H180v160Zm440 0h160v-160H620v160ZM180-180h160v-160H180v160Zm440 0h160v-160H620v160Z\"/>\n",
              "  </svg>\n",
              "    </button>\n",
              "\n",
              "  <style>\n",
              "    .colab-df-container {\n",
              "      display:flex;\n",
              "      gap: 12px;\n",
              "    }\n",
              "\n",
              "    .colab-df-convert {\n",
              "      background-color: #E8F0FE;\n",
              "      border: none;\n",
              "      border-radius: 50%;\n",
              "      cursor: pointer;\n",
              "      display: none;\n",
              "      fill: #1967D2;\n",
              "      height: 32px;\n",
              "      padding: 0 0 0 0;\n",
              "      width: 32px;\n",
              "    }\n",
              "\n",
              "    .colab-df-convert:hover {\n",
              "      background-color: #E2EBFA;\n",
              "      box-shadow: 0px 1px 2px rgba(60, 64, 67, 0.3), 0px 1px 3px 1px rgba(60, 64, 67, 0.15);\n",
              "      fill: #174EA6;\n",
              "    }\n",
              "\n",
              "    .colab-df-buttons div {\n",
              "      margin-bottom: 4px;\n",
              "    }\n",
              "\n",
              "    [theme=dark] .colab-df-convert {\n",
              "      background-color: #3B4455;\n",
              "      fill: #D2E3FC;\n",
              "    }\n",
              "\n",
              "    [theme=dark] .colab-df-convert:hover {\n",
              "      background-color: #434B5C;\n",
              "      box-shadow: 0px 1px 3px 1px rgba(0, 0, 0, 0.15);\n",
              "      filter: drop-shadow(0px 1px 2px rgba(0, 0, 0, 0.3));\n",
              "      fill: #FFFFFF;\n",
              "    }\n",
              "  </style>\n",
              "\n",
              "    <script>\n",
              "      const buttonEl =\n",
              "        document.querySelector('#df-ae08a518-d1d4-492c-a3aa-19e9c658f5ec button.colab-df-convert');\n",
              "      buttonEl.style.display =\n",
              "        google.colab.kernel.accessAllowed ? 'block' : 'none';\n",
              "\n",
              "      async function convertToInteractive(key) {\n",
              "        const element = document.querySelector('#df-ae08a518-d1d4-492c-a3aa-19e9c658f5ec');\n",
              "        const dataTable =\n",
              "          await google.colab.kernel.invokeFunction('convertToInteractive',\n",
              "                                                    [key], {});\n",
              "        if (!dataTable) return;\n",
              "\n",
              "        const docLinkHtml = 'Like what you see? Visit the ' +\n",
              "          '<a target=\"_blank\" href=https://colab.research.google.com/notebooks/data_table.ipynb>data table notebook</a>'\n",
              "          + ' to learn more about interactive tables.';\n",
              "        element.innerHTML = '';\n",
              "        dataTable['output_type'] = 'display_data';\n",
              "        await google.colab.output.renderOutput(dataTable, element);\n",
              "        const docLink = document.createElement('div');\n",
              "        docLink.innerHTML = docLinkHtml;\n",
              "        element.appendChild(docLink);\n",
              "      }\n",
              "    </script>\n",
              "  </div>\n",
              "\n",
              "\n",
              "<div id=\"df-a2f1236c-d33a-4035-8be5-65776574cd9a\">\n",
              "  <button class=\"colab-df-quickchart\" onclick=\"quickchart('df-a2f1236c-d33a-4035-8be5-65776574cd9a')\"\n",
              "            title=\"Suggest charts\"\n",
              "            style=\"display:none;\">\n",
              "\n",
              "<svg xmlns=\"http://www.w3.org/2000/svg\" height=\"24px\"viewBox=\"0 0 24 24\"\n",
              "     width=\"24px\">\n",
              "    <g>\n",
              "        <path d=\"M19 3H5c-1.1 0-2 .9-2 2v14c0 1.1.9 2 2 2h14c1.1 0 2-.9 2-2V5c0-1.1-.9-2-2-2zM9 17H7v-7h2v7zm4 0h-2V7h2v10zm4 0h-2v-4h2v4z\"/>\n",
              "    </g>\n",
              "</svg>\n",
              "  </button>\n",
              "\n",
              "<style>\n",
              "  .colab-df-quickchart {\n",
              "      --bg-color: #E8F0FE;\n",
              "      --fill-color: #1967D2;\n",
              "      --hover-bg-color: #E2EBFA;\n",
              "      --hover-fill-color: #174EA6;\n",
              "      --disabled-fill-color: #AAA;\n",
              "      --disabled-bg-color: #DDD;\n",
              "  }\n",
              "\n",
              "  [theme=dark] .colab-df-quickchart {\n",
              "      --bg-color: #3B4455;\n",
              "      --fill-color: #D2E3FC;\n",
              "      --hover-bg-color: #434B5C;\n",
              "      --hover-fill-color: #FFFFFF;\n",
              "      --disabled-bg-color: #3B4455;\n",
              "      --disabled-fill-color: #666;\n",
              "  }\n",
              "\n",
              "  .colab-df-quickchart {\n",
              "    background-color: var(--bg-color);\n",
              "    border: none;\n",
              "    border-radius: 50%;\n",
              "    cursor: pointer;\n",
              "    display: none;\n",
              "    fill: var(--fill-color);\n",
              "    height: 32px;\n",
              "    padding: 0;\n",
              "    width: 32px;\n",
              "  }\n",
              "\n",
              "  .colab-df-quickchart:hover {\n",
              "    background-color: var(--hover-bg-color);\n",
              "    box-shadow: 0 1px 2px rgba(60, 64, 67, 0.3), 0 1px 3px 1px rgba(60, 64, 67, 0.15);\n",
              "    fill: var(--button-hover-fill-color);\n",
              "  }\n",
              "\n",
              "  .colab-df-quickchart-complete:disabled,\n",
              "  .colab-df-quickchart-complete:disabled:hover {\n",
              "    background-color: var(--disabled-bg-color);\n",
              "    fill: var(--disabled-fill-color);\n",
              "    box-shadow: none;\n",
              "  }\n",
              "\n",
              "  .colab-df-spinner {\n",
              "    border: 2px solid var(--fill-color);\n",
              "    border-color: transparent;\n",
              "    border-bottom-color: var(--fill-color);\n",
              "    animation:\n",
              "      spin 1s steps(1) infinite;\n",
              "  }\n",
              "\n",
              "  @keyframes spin {\n",
              "    0% {\n",
              "      border-color: transparent;\n",
              "      border-bottom-color: var(--fill-color);\n",
              "      border-left-color: var(--fill-color);\n",
              "    }\n",
              "    20% {\n",
              "      border-color: transparent;\n",
              "      border-left-color: var(--fill-color);\n",
              "      border-top-color: var(--fill-color);\n",
              "    }\n",
              "    30% {\n",
              "      border-color: transparent;\n",
              "      border-left-color: var(--fill-color);\n",
              "      border-top-color: var(--fill-color);\n",
              "      border-right-color: var(--fill-color);\n",
              "    }\n",
              "    40% {\n",
              "      border-color: transparent;\n",
              "      border-right-color: var(--fill-color);\n",
              "      border-top-color: var(--fill-color);\n",
              "    }\n",
              "    60% {\n",
              "      border-color: transparent;\n",
              "      border-right-color: var(--fill-color);\n",
              "    }\n",
              "    80% {\n",
              "      border-color: transparent;\n",
              "      border-right-color: var(--fill-color);\n",
              "      border-bottom-color: var(--fill-color);\n",
              "    }\n",
              "    90% {\n",
              "      border-color: transparent;\n",
              "      border-bottom-color: var(--fill-color);\n",
              "    }\n",
              "  }\n",
              "</style>\n",
              "\n",
              "  <script>\n",
              "    async function quickchart(key) {\n",
              "      const quickchartButtonEl =\n",
              "        document.querySelector('#' + key + ' button');\n",
              "      quickchartButtonEl.disabled = true;  // To prevent multiple clicks.\n",
              "      quickchartButtonEl.classList.add('colab-df-spinner');\n",
              "      try {\n",
              "        const charts = await google.colab.kernel.invokeFunction(\n",
              "            'suggestCharts', [key], {});\n",
              "      } catch (error) {\n",
              "        console.error('Error during call to suggestCharts:', error);\n",
              "      }\n",
              "      quickchartButtonEl.classList.remove('colab-df-spinner');\n",
              "      quickchartButtonEl.classList.add('colab-df-quickchart-complete');\n",
              "    }\n",
              "    (() => {\n",
              "      let quickchartButtonEl =\n",
              "        document.querySelector('#df-a2f1236c-d33a-4035-8be5-65776574cd9a button');\n",
              "      quickchartButtonEl.style.display =\n",
              "        google.colab.kernel.accessAllowed ? 'block' : 'none';\n",
              "    })();\n",
              "  </script>\n",
              "</div>\n",
              "    </div>\n",
              "  </div>\n"
            ]
          },
          "metadata": {},
          "execution_count": 112
        }
      ]
    }
  ]
}