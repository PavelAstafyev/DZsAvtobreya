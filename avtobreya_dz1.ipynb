{
  "nbformat": 4,
  "nbformat_minor": 0,
  "metadata": {
    "colab": {
      "provenance": [],
      "collapsed_sections": []
    },
    "kernelspec": {
      "name": "python3",
      "display_name": "Python 3"
    },
    "language_info": {
      "name": "python"
    }
  },
  "cells": [
    {
      "cell_type": "code",
      "source": [
        "!pip install pymorphy2"
      ],
      "metadata": {
        "colab": {
          "base_uri": "https://localhost:8080/"
        },
        "id": "MOhNMUls5mYp",
        "outputId": "9c1dc95e-a028-4aa2-bfd9-15b51f7336e9"
      },
      "execution_count": null,
      "outputs": [
        {
          "output_type": "stream",
          "name": "stdout",
          "text": [
            "Looking in indexes: https://pypi.org/simple, https://us-python.pkg.dev/colab-wheels/public/simple/\n",
            "Collecting pymorphy2\n",
            "  Downloading pymorphy2-0.9.1-py3-none-any.whl (55 kB)\n",
            "\u001b[K     |████████████████████████████████| 55 kB 2.7 MB/s \n",
            "\u001b[?25hCollecting docopt>=0.6\n",
            "  Downloading docopt-0.6.2.tar.gz (25 kB)\n",
            "Collecting dawg-python>=0.7.1\n",
            "  Downloading DAWG_Python-0.7.2-py2.py3-none-any.whl (11 kB)\n",
            "Collecting pymorphy2-dicts-ru<3.0,>=2.4\n",
            "  Downloading pymorphy2_dicts_ru-2.4.417127.4579844-py2.py3-none-any.whl (8.2 MB)\n",
            "\u001b[K     |████████████████████████████████| 8.2 MB 11.0 MB/s \n",
            "\u001b[?25hBuilding wheels for collected packages: docopt\n",
            "  Building wheel for docopt (setup.py) ... \u001b[?25l\u001b[?25hdone\n",
            "  Created wheel for docopt: filename=docopt-0.6.2-py2.py3-none-any.whl size=13723 sha256=1d034c2d0947610f0a1bd73ce19c613bee3b7f11ccdc9e8d3e0aff9ce593399c\n",
            "  Stored in directory: /root/.cache/pip/wheels/72/b0/3f/1d95f96ff986c7dfffe46ce2be4062f38ebd04b506c77c81b9\n",
            "Successfully built docopt\n",
            "Installing collected packages: pymorphy2-dicts-ru, docopt, dawg-python, pymorphy2\n",
            "Successfully installed dawg-python-0.7.2 docopt-0.6.2 pymorphy2-0.9.1 pymorphy2-dicts-ru-2.4.417127.4579844\n"
          ]
        }
      ]
    },
    {
      "cell_type": "code",
      "execution_count": null,
      "metadata": {
        "id": "p96b0JBCzgKj"
      },
      "outputs": [],
      "source": [
        "import pandas as pd"
      ]
    },
    {
      "cell_type": "markdown",
      "source": [
        "Отзывы для обучения сохранил в файл. Считываем"
      ],
      "metadata": {
        "id": "9sEb8A7CxzOG"
      }
    },
    {
      "cell_type": "code",
      "source": [
        "revs = pd.read_csv('/content/revs.csv')\n",
        "revs.info()"
      ],
      "metadata": {
        "colab": {
          "base_uri": "https://localhost:8080/"
        },
        "id": "JK86dnCo04Ts",
        "outputId": "7fd7f952-06d1-46a3-ca36-e3d6c01ab7e2"
      },
      "execution_count": null,
      "outputs": [
        {
          "output_type": "stream",
          "name": "stdout",
          "text": [
            "<class 'pandas.core.frame.DataFrame'>\n",
            "RangeIndex: 60 entries, 0 to 59\n",
            "Data columns (total 2 columns):\n",
            " #   Column  Non-Null Count  Dtype \n",
            "---  ------  --------------  ----- \n",
            " 0   rev     60 non-null     object\n",
            " 1   val     60 non-null     int64 \n",
            "dtypes: int64(1), object(1)\n",
            "memory usage: 1.1+ KB\n"
          ]
        }
      ]
    },
    {
      "cell_type": "code",
      "source": [
        "import nltk\n",
        "from nltk.tokenize import word_tokenize\n",
        "from nltk.corpus import stopwords\n",
        "\n",
        "nltk.download('stopwords')\n",
        "\n",
        "sw = stopwords.words('russian')"
      ],
      "metadata": {
        "colab": {
          "base_uri": "https://localhost:8080/"
        },
        "id": "hsaivYRR5Ej3",
        "outputId": "a0bdd060-1fb2-4a4f-8838-9b8ad57fd726"
      },
      "execution_count": 10,
      "outputs": [
        {
          "output_type": "stream",
          "name": "stderr",
          "text": [
            "[nltk_data] Downloading package stopwords to /root/nltk_data...\n",
            "[nltk_data]   Unzipping corpora/stopwords.zip.\n"
          ]
        }
      ]
    },
    {
      "cell_type": "code",
      "source": [
        "from pymorphy2 import MorphAnalyzer\n",
        "\n",
        "morph = MorphAnalyzer()"
      ],
      "metadata": {
        "id": "sIiiSJ-YvPe1"
      },
      "execution_count": 11,
      "outputs": []
    },
    {
      "cell_type": "code",
      "source": [
        "from collections import Counter"
      ],
      "metadata": {
        "id": "Cz5bIRKvuCKj"
      },
      "execution_count": null,
      "outputs": []
    },
    {
      "cell_type": "markdown",
      "source": [
        "Функция получает из текстов отзывов список лемм без стоп-слов и слов, встретившихся менее 2 раз"
      ],
      "metadata": {
        "id": "aawrxvHux_-q"
      }
    },
    {
      "cell_type": "code",
      "source": [
        "def prepare_revs(revs):\n",
        "    tokens = [token for token in word_tokenize(revs)]\n",
        "    tokens_lower = [token.lower() for token in  tokens]\n",
        "    tokens_filtered = [token for token in tokens_lower if token not in sw]\n",
        "    lemmas = [morph.parse(token)[0].normal_form for token in tokens_filtered]\n",
        "    lemmas_counter = Counter(lemmas)\n",
        "    lemmas_filtered = [lemma for lemma in lemmas_counter.keys() if lemmas_counter[lemma] > 1]\n",
        "    return set(lemmas_filtered)"
      ],
      "metadata": {
        "id": "5I_xYAwn57F9"
      },
      "execution_count": 12,
      "outputs": []
    },
    {
      "cell_type": "markdown",
      "source": [
        "Готовим множества лемм-маркеров положительных и отрицательных отзывов"
      ],
      "metadata": {
        "id": "_twPjpELyTN7"
      }
    },
    {
      "cell_type": "code",
      "source": [
        "positive_revs = ' '.join(revs[revs['val'] == 1]['rev'])\n",
        "positive_lemmas_set = prepare_revs(positive_revs)"
      ],
      "metadata": {
        "id": "v3SApEnJ7hjS"
      },
      "execution_count": 14,
      "outputs": []
    },
    {
      "cell_type": "code",
      "source": [
        "negative_revs = ' '.join(revs[revs['val'] == 0]['rev'])\n",
        "negative_lemmas_set = prepare_revs(negative_revs)"
      ],
      "metadata": {
        "id": "8Z6hstaW9Uq2"
      },
      "execution_count": 15,
      "outputs": []
    },
    {
      "cell_type": "code",
      "source": [
        "positive_markers = positive_lemmas_set - negative_lemmas_set\n",
        "negative_markers = negative_lemmas_set - positive_lemmas_set"
      ],
      "metadata": {
        "id": "pHO6L1KG9evl"
      },
      "execution_count": 16,
      "outputs": []
    },
    {
      "cell_type": "markdown",
      "source": [
        "Эта функция нужна для предсказания по отзову его полярности и предобрабатывает его, превращая в список лемм"
      ],
      "metadata": {
        "id": "OvI0jWWtygHa"
      }
    },
    {
      "cell_type": "code",
      "source": [
        "def prepare_a_rev(rev):\n",
        "    tokens = [token for token in word_tokenize(rev)]\n",
        "    tokens_lower = [token.lower() for token in  tokens]\n",
        "    lemmas = [morph.parse(token)[0].normal_form for token in tokens_lower]\n",
        "    return lemmas"
      ],
      "metadata": {
        "id": "mm9HlMPd-2fa"
      },
      "execution_count": 20,
      "outputs": []
    },
    {
      "cell_type": "code",
      "source": [
        "import random"
      ],
      "metadata": {
        "id": "-0izeTMYFlBu"
      },
      "execution_count": 21,
      "outputs": []
    },
    {
      "cell_type": "markdown",
      "source": [
        "Собственно функция предсказания полярности отзыва"
      ],
      "metadata": {
        "id": "erwYKHKMys-e"
      }
    },
    {
      "cell_type": "code",
      "source": [
        "def predict(rev, positive_markers, negative_markers):\n",
        "    rev_lemmas = prepare_a_rev(rev)\n",
        "    pos = 0\n",
        "    neg = 0\n",
        "    for lemma in rev_lemmas:\n",
        "        if lemma in positive_markers:\n",
        "            pos += 1\n",
        "        elif lemma in negative_markers:\n",
        "            neg += 1\n",
        "    if pos > neg:\n",
        "        return 1\n",
        "    elif pos < neg:\n",
        "        return 0\n",
        "    else:\n",
        "        return random.choice([0, 1])"
      ],
      "metadata": {
        "id": "F9utbGPa__Nb"
      },
      "execution_count": 22,
      "outputs": []
    },
    {
      "cell_type": "markdown",
      "source": [
        "Подсчет accuracy на тестовых данных"
      ],
      "metadata": {
        "id": "I5iIeO5eyyhL"
      }
    },
    {
      "cell_type": "code",
      "source": [
        "test_data = pd.read_csv('/content/revs_test.csv')\n",
        "test_data.info()"
      ],
      "metadata": {
        "id": "sAjJ63fID8pY",
        "colab": {
          "base_uri": "https://localhost:8080/"
        },
        "outputId": "f0bca74d-5757-4d0a-8ef5-4cdf109a1086"
      },
      "execution_count": 23,
      "outputs": [
        {
          "output_type": "stream",
          "name": "stdout",
          "text": [
            "<class 'pandas.core.frame.DataFrame'>\n",
            "RangeIndex: 10 entries, 0 to 9\n",
            "Data columns (total 2 columns):\n",
            " #   Column  Non-Null Count  Dtype \n",
            "---  ------  --------------  ----- \n",
            " 0   rev     10 non-null     object\n",
            " 1   val     10 non-null     int64 \n",
            "dtypes: int64(1), object(1)\n",
            "memory usage: 288.0+ bytes\n"
          ]
        }
      ]
    },
    {
      "cell_type": "code",
      "source": [
        "x = test_data['rev']\n",
        "y = test_data['val']"
      ],
      "metadata": {
        "id": "SZK14hAuwOF5"
      },
      "execution_count": 24,
      "outputs": []
    },
    {
      "cell_type": "code",
      "source": [
        "y_pred = [predict(rev, positive_markers, negative_markers) for rev in x]"
      ],
      "metadata": {
        "id": "ceZvD0w-EPbx"
      },
      "execution_count": 25,
      "outputs": []
    },
    {
      "cell_type": "code",
      "source": [
        "from sklearn.metrics import accuracy_score"
      ],
      "metadata": {
        "id": "1mtbIOtWEqRc"
      },
      "execution_count": 26,
      "outputs": []
    },
    {
      "cell_type": "code",
      "source": [
        "accuracy_score(y, y_pred)"
      ],
      "metadata": {
        "colab": {
          "base_uri": "https://localhost:8080/"
        },
        "id": "XllXNl1iE1Xf",
        "outputId": "800da242-fa50-4de9-8823-0658681cbd0c"
      },
      "execution_count": 28,
      "outputs": [
        {
          "output_type": "execute_result",
          "data": {
            "text/plain": [
              "0.9"
            ]
          },
          "metadata": {},
          "execution_count": 28
        }
      ]
    }
  ]
}